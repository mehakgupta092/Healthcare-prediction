{
 "cells": [
  {
   "cell_type": "code",
   "execution_count": 1,
   "metadata": {
    "scrolled": true
   },
   "outputs": [
    {
     "name": "stderr",
     "output_type": "stream",
     "text": [
      "C:\\ProgramData\\Anaconda3\\lib\\site-packages\\sklearn\\linear_model\\logistic.py:432: FutureWarning: Default solver will be changed to 'lbfgs' in 0.22. Specify a solver to silence this warning.\n",
      "  FutureWarning)\n",
      "C:\\ProgramData\\Anaconda3\\lib\\site-packages\\sklearn\\linear_model\\logistic.py:469: FutureWarning: Default multi_class will be changed to 'auto' in 0.22. Specify the multi_class option to silence this warning.\n",
      "  \"this warning.\", FutureWarning)\n"
     ]
    },
    {
     "name": "stdout",
     "output_type": "stream",
     "text": [
      "Logistic Regression model accuracy(in %): 100.0\n",
      "Please reply y or n for the following symptoms\n",
      "y for yes and n for no\n",
      "restlessness?\n",
      "y\n",
      "lethargy?\n",
      "y\n",
      "patches_in_throat?\n",
      "n\n",
      "irregular_sugar_level?\n",
      "n\n",
      "cough?\n",
      "y\n",
      "high_fever?\n",
      "n\n",
      "sunken_eyes?\n",
      "y\n",
      "breathlessness?\n",
      "n\n",
      "sweating?\n",
      "y\n",
      "dehydration?\n",
      "y\n",
      "Gastroenteritis\n"
     ]
    }
   ],
   "source": [
    "from sklearn import datasets, linear_model, metrics\n",
    "from sklearn.linear_model import LogisticRegression \n",
    "import pandas as pd\n",
    "import csv\n",
    "import random\n",
    "import numpy as np\n",
    " \n",
    "\n",
    "#import necessary modules\n",
    "\n",
    "data1=[]\n",
    "with open('C:/Users/HP/Desktop/python/final/Training.csv','rt') as f:\n",
    "\tdata=csv.reader(f)\n",
    "\tfor row in data:\n",
    "\t\tdata1.append(row)\n",
    "X=data1[1:]\n",
    "ques=data1[0]\n",
    "# print(ques)\n",
    "X=np.array(X)\n",
    "labels=list(set(X[:,-1]))\n",
    "\n",
    "\n",
    "for i in range(len(X)):\n",
    "\tfor j in range(len(labels)):\n",
    "\t\tif(X[i][-1]==labels[j]):\n",
    "\t\t\tX[i][-1]=j\n",
    "        \n",
    "y=X[:,-1]\n",
    "\n",
    "X=X[:,:-1]\n",
    "y=np.array(y)\n",
    "X=X.astype('float64')\n",
    "y=y.astype('float64')\n",
    "\n",
    "# splitting X and y into training and testing sets \n",
    "from sklearn.model_selection import train_test_split \n",
    "X_train, X_test, y_train, y_test = train_test_split(X, y, test_size=0.4) \n",
    "# print(X_test.shape())\n",
    "# create logistic regression object \n",
    "reg = linear_model.LogisticRegression() \n",
    "\n",
    "# train the model using the training sets \n",
    "reg.fit(X_train, y_train) \n",
    "\n",
    "# making predictions on the testing set \n",
    "y_pred = reg.predict(X_test) \n",
    "\n",
    "# comparing actual response values (y_test) with predicted response values (y_pred) \n",
    "print(\"Logistic Regression model accuracy(in %):\", \n",
    "metrics.accuracy_score(y_test, y_pred)*100) \n",
    "# print(X_test[0])\n",
    "x_new=[]\n",
    "for i in range(132):\n",
    "    x_new.append(0.)\n",
    " \n",
    "print(\"Please reply y or n for the following symptoms\") \n",
    "\n",
    "X_new=x_new\n",
    "print(\"y for yes and n for no\")\n",
    "n1=random.randint(0,132)\n",
    "n1=n1-(n1%10)\n",
    "num=n1\n",
    "for i in range (10):\n",
    "    print(ques[num]+\"?\")\n",
    "    if(input()=='y'):\n",
    "        X_new[num]=1.\n",
    "    num=num+1\n",
    "ans=reg.predict([X_new])\n",
    "# print([X_new])\n",
    "\n",
    "print(labels[int(ans)])\n",
    "\n",
    "\n",
    "\n",
    "\n",
    "\n",
    "\n",
    "\n"
   ]
  },
  {
   "cell_type": "code",
   "execution_count": null,
   "metadata": {},
   "outputs": [],
   "source": []
  },
  {
   "cell_type": "code",
   "execution_count": null,
   "metadata": {},
   "outputs": [],
   "source": []
  },
  {
   "cell_type": "code",
   "execution_count": null,
   "metadata": {},
   "outputs": [],
   "source": []
  },
  {
   "cell_type": "code",
   "execution_count": null,
   "metadata": {},
   "outputs": [],
   "source": []
  }
 ],
 "metadata": {
  "kernelspec": {
   "display_name": "Python 3",
   "language": "python",
   "name": "python3"
  },
  "language_info": {
   "codemirror_mode": {
    "name": "ipython",
    "version": 3
   },
   "file_extension": ".py",
   "mimetype": "text/x-python",
   "name": "python",
   "nbconvert_exporter": "python",
   "pygments_lexer": "ipython3",
   "version": "3.7.3"
  }
 },
 "nbformat": 4,
 "nbformat_minor": 2
}
